{
 "cells": [
  {
   "cell_type": "code",
   "execution_count": 1,
   "id": "3f3b8201",
   "metadata": {},
   "outputs": [],
   "source": [
    "import pandas as pd\n",
    "\n",
    "data = {'Name': ['John', 'Mary', 'Bob', 'Sarah', 'Tom', 'Lisa'], \n",
    "        'Department': ['IT', 'Marketing', 'Sales', 'IT', 'Finance', 'Marketing'], \n",
    "        'Age': [30, 40, 25, 35, 45, 28], \n",
    "        'Gender': ['Male', 'Female', 'Male', 'Female', 'Male', 'Female'], \n",
    "        'Salary': [50000, 60000, 45000, 55000, 70000, 55000],\n",
    "        'Experience': [3, 7, 2, 5, 10, 4]}\n",
    "\n",
    "employee_df = pd.DataFrame(data)"
   ]
  },
  {
   "cell_type": "code",
   "execution_count": 2,
   "id": "1da528ff",
   "metadata": {},
   "outputs": [
    {
     "name": "stdout",
     "output_type": "stream",
     "text": [
      "    Name Department  Age  Gender  Salary  Experience\n",
      "0   John         IT   30    Male   50000           3\n",
      "1   Mary  Marketing   40  Female   60000           7\n",
      "2    Bob      Sales   25    Male   45000           2\n",
      "3  Sarah         IT   35  Female   55000           5\n",
      "4    Tom    Finance   45    Male   70000          10\n",
      "5   Lisa  Marketing   28  Female   55000           4\n"
     ]
    }
   ],
   "source": [
    "print(employee_df)"
   ]
  },
  {
   "cell_type": "code",
   "execution_count": 3,
   "id": "9fd8cfb1",
   "metadata": {},
   "outputs": [
    {
     "data": {
      "text/html": [
       "<div>\n",
       "<style scoped>\n",
       "    .dataframe tbody tr th:only-of-type {\n",
       "        vertical-align: middle;\n",
       "    }\n",
       "\n",
       "    .dataframe tbody tr th {\n",
       "        vertical-align: top;\n",
       "    }\n",
       "\n",
       "    .dataframe thead th {\n",
       "        text-align: right;\n",
       "    }\n",
       "</style>\n",
       "<table border=\"1\" class=\"dataframe\">\n",
       "  <thead>\n",
       "    <tr style=\"text-align: right;\">\n",
       "      <th></th>\n",
       "      <th>Name</th>\n",
       "      <th>Department</th>\n",
       "      <th>Age</th>\n",
       "      <th>Gender</th>\n",
       "      <th>Salary</th>\n",
       "      <th>Experience</th>\n",
       "    </tr>\n",
       "  </thead>\n",
       "  <tbody>\n",
       "    <tr>\n",
       "      <th>0</th>\n",
       "      <td>John</td>\n",
       "      <td>IT</td>\n",
       "      <td>30</td>\n",
       "      <td>Male</td>\n",
       "      <td>50000</td>\n",
       "      <td>3</td>\n",
       "    </tr>\n",
       "    <tr>\n",
       "      <th>1</th>\n",
       "      <td>Mary</td>\n",
       "      <td>Marketing</td>\n",
       "      <td>40</td>\n",
       "      <td>Female</td>\n",
       "      <td>60000</td>\n",
       "      <td>7</td>\n",
       "    </tr>\n",
       "    <tr>\n",
       "      <th>2</th>\n",
       "      <td>Bob</td>\n",
       "      <td>Sales</td>\n",
       "      <td>25</td>\n",
       "      <td>Male</td>\n",
       "      <td>45000</td>\n",
       "      <td>2</td>\n",
       "    </tr>\n",
       "    <tr>\n",
       "      <th>3</th>\n",
       "      <td>Sarah</td>\n",
       "      <td>IT</td>\n",
       "      <td>35</td>\n",
       "      <td>Female</td>\n",
       "      <td>55000</td>\n",
       "      <td>5</td>\n",
       "    </tr>\n",
       "    <tr>\n",
       "      <th>4</th>\n",
       "      <td>Tom</td>\n",
       "      <td>Finance</td>\n",
       "      <td>45</td>\n",
       "      <td>Male</td>\n",
       "      <td>70000</td>\n",
       "      <td>10</td>\n",
       "    </tr>\n",
       "    <tr>\n",
       "      <th>5</th>\n",
       "      <td>Lisa</td>\n",
       "      <td>Marketing</td>\n",
       "      <td>28</td>\n",
       "      <td>Female</td>\n",
       "      <td>55000</td>\n",
       "      <td>4</td>\n",
       "    </tr>\n",
       "  </tbody>\n",
       "</table>\n",
       "</div>"
      ],
      "text/plain": [
       "    Name Department  Age  Gender  Salary  Experience\n",
       "0   John         IT   30    Male   50000           3\n",
       "1   Mary  Marketing   40  Female   60000           7\n",
       "2    Bob      Sales   25    Male   45000           2\n",
       "3  Sarah         IT   35  Female   55000           5\n",
       "4    Tom    Finance   45    Male   70000          10\n",
       "5   Lisa  Marketing   28  Female   55000           4"
      ]
     },
     "execution_count": 3,
     "metadata": {},
     "output_type": "execute_result"
    }
   ],
   "source": [
    "# Using the iloc method to select the first 3 rows of the dataframe.\n",
    "employee_df"
   ]
  },
  {
   "cell_type": "code",
   "execution_count": 4,
   "id": "5b5f853c",
   "metadata": {},
   "outputs": [
    {
     "name": "stdout",
     "output_type": "stream",
     "text": [
      "   Name Department  Age  Gender  Salary  Experience\n",
      "0  John         IT   30    Male   50000           3\n",
      "1  Mary  Marketing   40  Female   60000           7\n",
      "2   Bob      Sales   25    Male   45000           2\n"
     ]
    }
   ],
   "source": [
    "first_3_rows = employee_df.iloc[:3, 0:6]\n",
    "print(first_3_rows)"
   ]
  },
  {
   "cell_type": "code",
   "execution_count": 5,
   "id": "05bc2753",
   "metadata": {},
   "outputs": [
    {
     "name": "stdout",
     "output_type": "stream",
     "text": [
      "   Name Department  Age  Gender  Salary  Experience\n",
      "1  Mary  Marketing   40  Female   60000           7\n",
      "5  Lisa  Marketing   28  Female   55000           4\n"
     ]
    }
   ],
   "source": [
    "# Using the loc method to select all rows where the Department is \"Marketing\".\n",
    "\n",
    "markn_dept = employee_df.loc[employee_df[\"Department\"] == \"Marketing\"]\n",
    "print(markn_dept)"
   ]
  },
  {
   "cell_type": "code",
   "execution_count": 6,
   "id": "5528f443",
   "metadata": {},
   "outputs": [
    {
     "name": "stdout",
     "output_type": "stream",
     "text": [
      "   Age  Gender\n",
      "0   30    Male\n",
      "1   40  Female\n",
      "2   25    Male\n",
      "3   35  Female\n"
     ]
    }
   ],
   "source": [
    "# Using the iloc method to select the Age and Gender columns for the first 4 rows of the dataframe.\n",
    "\n",
    "age_gender = employee_df.iloc[:4, 2:4]\n",
    "print(age_gender)"
   ]
  },
  {
   "cell_type": "code",
   "execution_count": 7,
   "id": "4415005c",
   "metadata": {},
   "outputs": [
    {
     "name": "stdout",
     "output_type": "stream",
     "text": [
      "   Name Department  Age Gender  Salary  Experience\n",
      "0  John         IT   30   Male   50000           3\n",
      "2   Bob      Sales   25   Male   45000           2\n",
      "4   Tom    Finance   45   Male   70000          10\n"
     ]
    }
   ],
   "source": [
    "# Using the loc method to select the Salary and Experience columns for all rows where the Gender is \"Male\".\n",
    "\n",
    "salary_experience = employee_df.loc[(employee_df[\"Salary\"] != \"Experience\") & (employee_df[\"Gender\"] == \"Male\")]\n",
    "print(salary_experience)"
   ]
  },
  {
   "cell_type": "code",
   "execution_count": null,
   "id": "cff9e2c3",
   "metadata": {},
   "outputs": [],
   "source": []
  }
 ],
 "metadata": {
  "kernelspec": {
   "display_name": "Python 3 (ipykernel)",
   "language": "python",
   "name": "python3"
  },
  "language_info": {
   "codemirror_mode": {
    "name": "ipython",
    "version": 3
   },
   "file_extension": ".py",
   "mimetype": "text/x-python",
   "name": "python",
   "nbconvert_exporter": "python",
   "pygments_lexer": "ipython3",
   "version": "3.11.5"
  }
 },
 "nbformat": 4,
 "nbformat_minor": 5
}
